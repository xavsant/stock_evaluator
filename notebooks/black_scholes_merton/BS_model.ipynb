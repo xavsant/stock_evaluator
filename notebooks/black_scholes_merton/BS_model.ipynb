{
 "cells": [
  {
   "cell_type": "code",
   "execution_count": 2,
   "metadata": {},
   "outputs": [
    {
     "name": "stdout",
     "output_type": "stream",
     "text": [
      "Requirement already satisfied: scipy in /Library/Frameworks/Python.framework/Versions/3.13/lib/python3.13/site-packages (1.14.1)\n",
      "Requirement already satisfied: numpy<2.3,>=1.23.5 in /Library/Frameworks/Python.framework/Versions/3.13/lib/python3.13/site-packages (from scipy) (2.1.3)\n",
      "\n",
      "\u001b[1m[\u001b[0m\u001b[34;49mnotice\u001b[0m\u001b[1;39;49m]\u001b[0m\u001b[39;49m A new release of pip is available: \u001b[0m\u001b[31;49m24.2\u001b[0m\u001b[39;49m -> \u001b[0m\u001b[32;49m24.3.1\u001b[0m\n",
      "\u001b[1m[\u001b[0m\u001b[34;49mnotice\u001b[0m\u001b[1;39;49m]\u001b[0m\u001b[39;49m To update, run: \u001b[0m\u001b[32;49mpip3.13 install --upgrade pip\u001b[0m\n",
      "Note: you may need to restart the kernel to use updated packages.\n"
     ]
    }
   ],
   "source": [
    "pip install scipy"
   ]
  },
  {
   "cell_type": "code",
   "execution_count": 3,
   "metadata": {},
   "outputs": [
    {
     "name": "stdout",
     "output_type": "stream",
     "text": [
      "Requirement already satisfied: matplotlib in /Library/Frameworks/Python.framework/Versions/3.13/lib/python3.13/site-packages (3.9.2)\n",
      "Requirement already satisfied: contourpy>=1.0.1 in /Library/Frameworks/Python.framework/Versions/3.13/lib/python3.13/site-packages (from matplotlib) (1.3.1)\n",
      "Requirement already satisfied: cycler>=0.10 in /Library/Frameworks/Python.framework/Versions/3.13/lib/python3.13/site-packages (from matplotlib) (0.12.1)\n",
      "Requirement already satisfied: fonttools>=4.22.0 in /Library/Frameworks/Python.framework/Versions/3.13/lib/python3.13/site-packages (from matplotlib) (4.55.0)\n",
      "Requirement already satisfied: kiwisolver>=1.3.1 in /Library/Frameworks/Python.framework/Versions/3.13/lib/python3.13/site-packages (from matplotlib) (1.4.7)\n",
      "Requirement already satisfied: numpy>=1.23 in /Library/Frameworks/Python.framework/Versions/3.13/lib/python3.13/site-packages (from matplotlib) (2.1.3)\n",
      "Requirement already satisfied: packaging>=20.0 in /Users/nickbernardini/Library/Python/3.13/lib/python/site-packages (from matplotlib) (24.1)\n",
      "Requirement already satisfied: pillow>=8 in /Library/Frameworks/Python.framework/Versions/3.13/lib/python3.13/site-packages (from matplotlib) (11.0.0)\n",
      "Requirement already satisfied: pyparsing>=2.3.1 in /Library/Frameworks/Python.framework/Versions/3.13/lib/python3.13/site-packages (from matplotlib) (3.2.0)\n",
      "Requirement already satisfied: python-dateutil>=2.7 in /Users/nickbernardini/Library/Python/3.13/lib/python/site-packages (from matplotlib) (2.9.0.post0)\n",
      "Requirement already satisfied: six>=1.5 in /Users/nickbernardini/Library/Python/3.13/lib/python/site-packages (from python-dateutil>=2.7->matplotlib) (1.16.0)\n",
      "\n",
      "\u001b[1m[\u001b[0m\u001b[34;49mnotice\u001b[0m\u001b[1;39;49m]\u001b[0m\u001b[39;49m A new release of pip is available: \u001b[0m\u001b[31;49m24.2\u001b[0m\u001b[39;49m -> \u001b[0m\u001b[32;49m24.3.1\u001b[0m\n",
      "\u001b[1m[\u001b[0m\u001b[34;49mnotice\u001b[0m\u001b[1;39;49m]\u001b[0m\u001b[39;49m To update, run: \u001b[0m\u001b[32;49mpip3.13 install --upgrade pip\u001b[0m\n",
      "Note: you may need to restart the kernel to use updated packages.\n"
     ]
    }
   ],
   "source": [
    "pip install matplotlib"
   ]
  },
  {
   "cell_type": "code",
   "execution_count": 4,
   "metadata": {},
   "outputs": [
    {
     "name": "stdout",
     "output_type": "stream",
     "text": [
      "Requirement already satisfied: numpy in /Library/Frameworks/Python.framework/Versions/3.13/lib/python3.13/site-packages (2.1.3)\n",
      "\n",
      "\u001b[1m[\u001b[0m\u001b[34;49mnotice\u001b[0m\u001b[1;39;49m]\u001b[0m\u001b[39;49m A new release of pip is available: \u001b[0m\u001b[31;49m24.2\u001b[0m\u001b[39;49m -> \u001b[0m\u001b[32;49m24.3.1\u001b[0m\n",
      "\u001b[1m[\u001b[0m\u001b[34;49mnotice\u001b[0m\u001b[1;39;49m]\u001b[0m\u001b[39;49m To update, run: \u001b[0m\u001b[32;49mpip3.13 install --upgrade pip\u001b[0m\n",
      "Note: you may need to restart the kernel to use updated packages.\n"
     ]
    }
   ],
   "source": [
    "pip install numpy"
   ]
  },
  {
   "cell_type": "code",
   "execution_count": 5,
   "metadata": {},
   "outputs": [
    {
     "name": "stdout",
     "output_type": "stream",
     "text": [
      "Requirement already satisfied: opstrat in /Library/Frameworks/Python.framework/Versions/3.13/lib/python3.13/site-packages (0.1.7)\n",
      "Requirement already satisfied: matplotlib in /Library/Frameworks/Python.framework/Versions/3.13/lib/python3.13/site-packages (from opstrat) (3.9.2)\n",
      "Requirement already satisfied: pandas in /Library/Frameworks/Python.framework/Versions/3.13/lib/python3.13/site-packages (from opstrat) (2.2.3)\n",
      "Requirement already satisfied: numpy in /Library/Frameworks/Python.framework/Versions/3.13/lib/python3.13/site-packages (from opstrat) (2.1.3)\n",
      "Requirement already satisfied: seaborn in /Library/Frameworks/Python.framework/Versions/3.13/lib/python3.13/site-packages (from opstrat) (0.13.2)\n",
      "Requirement already satisfied: yfinance in /Library/Frameworks/Python.framework/Versions/3.13/lib/python3.13/site-packages (from opstrat) (0.2.49)\n",
      "Requirement already satisfied: contourpy>=1.0.1 in /Library/Frameworks/Python.framework/Versions/3.13/lib/python3.13/site-packages (from matplotlib->opstrat) (1.3.1)\n",
      "Requirement already satisfied: cycler>=0.10 in /Library/Frameworks/Python.framework/Versions/3.13/lib/python3.13/site-packages (from matplotlib->opstrat) (0.12.1)\n",
      "Requirement already satisfied: fonttools>=4.22.0 in /Library/Frameworks/Python.framework/Versions/3.13/lib/python3.13/site-packages (from matplotlib->opstrat) (4.55.0)\n",
      "Requirement already satisfied: kiwisolver>=1.3.1 in /Library/Frameworks/Python.framework/Versions/3.13/lib/python3.13/site-packages (from matplotlib->opstrat) (1.4.7)\n",
      "Requirement already satisfied: packaging>=20.0 in /Users/nickbernardini/Library/Python/3.13/lib/python/site-packages (from matplotlib->opstrat) (24.1)\n",
      "Requirement already satisfied: pillow>=8 in /Library/Frameworks/Python.framework/Versions/3.13/lib/python3.13/site-packages (from matplotlib->opstrat) (11.0.0)\n",
      "Requirement already satisfied: pyparsing>=2.3.1 in /Library/Frameworks/Python.framework/Versions/3.13/lib/python3.13/site-packages (from matplotlib->opstrat) (3.2.0)\n",
      "Requirement already satisfied: python-dateutil>=2.7 in /Users/nickbernardini/Library/Python/3.13/lib/python/site-packages (from matplotlib->opstrat) (2.9.0.post0)\n",
      "Requirement already satisfied: pytz>=2020.1 in /Library/Frameworks/Python.framework/Versions/3.13/lib/python3.13/site-packages (from pandas->opstrat) (2024.2)\n",
      "Requirement already satisfied: tzdata>=2022.7 in /Library/Frameworks/Python.framework/Versions/3.13/lib/python3.13/site-packages (from pandas->opstrat) (2024.2)\n",
      "Requirement already satisfied: requests>=2.31 in /Library/Frameworks/Python.framework/Versions/3.13/lib/python3.13/site-packages (from yfinance->opstrat) (2.32.3)\n",
      "Requirement already satisfied: multitasking>=0.0.7 in /Library/Frameworks/Python.framework/Versions/3.13/lib/python3.13/site-packages (from yfinance->opstrat) (0.0.11)\n",
      "Requirement already satisfied: lxml>=4.9.1 in /Library/Frameworks/Python.framework/Versions/3.13/lib/python3.13/site-packages (from yfinance->opstrat) (5.3.0)\n",
      "Requirement already satisfied: platformdirs>=2.0.0 in /Users/nickbernardini/Library/Python/3.13/lib/python/site-packages (from yfinance->opstrat) (4.3.6)\n",
      "Requirement already satisfied: frozendict>=2.3.4 in /Library/Frameworks/Python.framework/Versions/3.13/lib/python3.13/site-packages (from yfinance->opstrat) (2.4.6)\n",
      "Requirement already satisfied: peewee>=3.16.2 in /Library/Frameworks/Python.framework/Versions/3.13/lib/python3.13/site-packages (from yfinance->opstrat) (3.17.8)\n",
      "Requirement already satisfied: beautifulsoup4>=4.11.1 in /Library/Frameworks/Python.framework/Versions/3.13/lib/python3.13/site-packages (from yfinance->opstrat) (4.12.3)\n",
      "Requirement already satisfied: html5lib>=1.1 in /Library/Frameworks/Python.framework/Versions/3.13/lib/python3.13/site-packages (from yfinance->opstrat) (1.1)\n",
      "Requirement already satisfied: soupsieve>1.2 in /Library/Frameworks/Python.framework/Versions/3.13/lib/python3.13/site-packages (from beautifulsoup4>=4.11.1->yfinance->opstrat) (2.6)\n",
      "Requirement already satisfied: six>=1.9 in /Users/nickbernardini/Library/Python/3.13/lib/python/site-packages (from html5lib>=1.1->yfinance->opstrat) (1.16.0)\n",
      "Requirement already satisfied: webencodings in /Library/Frameworks/Python.framework/Versions/3.13/lib/python3.13/site-packages (from html5lib>=1.1->yfinance->opstrat) (0.5.1)\n",
      "Requirement already satisfied: charset-normalizer<4,>=2 in /Library/Frameworks/Python.framework/Versions/3.13/lib/python3.13/site-packages (from requests>=2.31->yfinance->opstrat) (3.4.0)\n",
      "Requirement already satisfied: idna<4,>=2.5 in /Library/Frameworks/Python.framework/Versions/3.13/lib/python3.13/site-packages (from requests>=2.31->yfinance->opstrat) (3.10)\n",
      "Requirement already satisfied: urllib3<3,>=1.21.1 in /Library/Frameworks/Python.framework/Versions/3.13/lib/python3.13/site-packages (from requests>=2.31->yfinance->opstrat) (2.2.3)\n",
      "Requirement already satisfied: certifi>=2017.4.17 in /Library/Frameworks/Python.framework/Versions/3.13/lib/python3.13/site-packages (from requests>=2.31->yfinance->opstrat) (2024.8.30)\n",
      "\n",
      "\u001b[1m[\u001b[0m\u001b[34;49mnotice\u001b[0m\u001b[1;39;49m]\u001b[0m\u001b[39;49m A new release of pip is available: \u001b[0m\u001b[31;49m24.2\u001b[0m\u001b[39;49m -> \u001b[0m\u001b[32;49m24.3.1\u001b[0m\n",
      "\u001b[1m[\u001b[0m\u001b[34;49mnotice\u001b[0m\u001b[1;39;49m]\u001b[0m\u001b[39;49m To update, run: \u001b[0m\u001b[32;49mpip3.13 install --upgrade pip\u001b[0m\n",
      "Note: you may need to restart the kernel to use updated packages.\n"
     ]
    }
   ],
   "source": [
    "pip install opstrat"
   ]
  },
  {
   "cell_type": "markdown",
   "metadata": {},
   "source": [
    "VALUES INPUT\n",
    "\n",
    "input the values for the variables here below\n",
    "r= interest rate ,\n",
    "S= underlying asset ,\n",
    "K= strike price ,\n",
    "T= time ,\n",
    "sigma= volatility ,\n",
    "type_option= Call (c) or Put (p)\n",
    "tr_op= buyer (b) or seller (s)\n",
    "op_pr= option premium\n"
   ]
  },
  {
   "cell_type": "code",
   "execution_count": null,
   "metadata": {},
   "outputs": [
    {
     "name": "stdout",
     "output_type": "stream",
     "text": [
      "Option Price: 12.328\n",
      "Delta: 0.697\n",
      "Gamma: 0.017\n",
      "Vega: 0.349\n",
      "Theta: -0.011\n",
      "Rho: 0.616\n"
     ]
    },
    {
     "data": {
      "image/png": "[encoded data removed]",
      "text/plain": [
       "<Figure size 1000x600 with 1 Axes>"
      ]
     },
     "metadata": {},
     "output_type": "display_data"
    }
   ],
   "source": [
    "import numpy as np\n",
    "from scipy.stats import norm\n",
    "import opstrat as op\n",
    "\n",
    "class BlackScholesModel:\n",
    "    def __init__(self, r, S, K, T, sigma, type_option=\"c\"):\n",
    "        self.r = r\n",
    "        self.S = S\n",
    "        self.K = K\n",
    "        self.T = T\n",
    "        self.sigma = sigma\n",
    "        self.type_option = type_option\n",
    "\n",
    "    def _d1(self):\n",
    "        return (np.log(self.S / self.K) + (self.r + self.sigma**2 / 2) * self.T) / (self.sigma * np.sqrt(self.T))\n",
    "\n",
    "    def _d2(self):\n",
    "        return self._d1() - self.sigma * np.sqrt(self.T)\n",
    "\n",
    "    def option_price(self):\n",
    "        d1 = self._d1()\n",
    "        d2 = self._d2()\n",
    "        if self.type_option in [\"c\", \"Call\"]:\n",
    "            price = self.S * norm.cdf(d1) - self.K * np.exp(-self.r * self.T) * norm.cdf(d2)\n",
    "        elif self.type_option in [\"p\", \"Put\"]:\n",
    "            price = self.K * np.exp(-self.r * self.T) * norm.cdf(-d2) - self.S * norm.cdf(-d1)\n",
    "        else:\n",
    "            raise ValueError(\"Please confirm option type (Call-c or Put-p)\")\n",
    "        return round(float(price), 3)\n",
    "\n",
    "    def delta(self):\n",
    "        d1 = self._d1()\n",
    "        if self.type_option in [\"c\", \"Call\"]:\n",
    "            return round(norm.cdf(d1), 3)\n",
    "        elif self.type_option in [\"p\", \"Put\"]:\n",
    "            return round(-norm.cdf(-d1), 3)\n",
    "        else:\n",
    "            raise ValueError(\"Please confirm option type (Call-c or Put-p)\")\n",
    "\n",
    "    def gamma(self):\n",
    "        d1 = self._d1()\n",
    "        return round(norm.pdf(d1) / (self.S * self.sigma * np.sqrt(self.T)), 3)\n",
    "\n",
    "    def vega(self):\n",
    "        d1 = self._d1()\n",
    "        return round(self.S * norm.pdf(d1) * np.sqrt(self.T) * 0.01, 3)\n",
    "\n",
    "    def theta(self):\n",
    "        d1 = self._d1()\n",
    "        d2 = self._d2()\n",
    "        if self.type_option in [\"c\", \"Call\"]:\n",
    "            return round((-self.S * norm.pdf(d1) * self.sigma / (2 * np.sqrt(self.T)) - \n",
    "                          self.r * self.K * np.exp(-self.r * self.T) * norm.cdf(d2)) / 365, 3)\n",
    "        elif self.type_option in [\"p\", \"Put\"]:\n",
    "            return round((-self.S * norm.pdf(d1) * self.sigma / (2 * np.sqrt(self.T)) + \n",
    "                          self.r * self.K * np.exp(-self.r * self.T) * norm.cdf(-d2)) / 365, 3)\n",
    "        else:\n",
    "            raise ValueError(\"Please confirm option type (Call-c or Put-p)\")\n",
    "\n",
    "    def rho(self):\n",
    "        d2 = self._d2()\n",
    "        if self.type_option in [\"c\", \"Call\"]:\n",
    "            return round(self.K * self.T * np.exp(-self.r * self.T) * norm.cdf(d2) * 0.01, 3)\n",
    "        elif self.type_option in [\"p\", \"Put\"]:\n",
    "            return round(-self.K * self.T * np.exp(-self.r * self.T) * norm.cdf(-d2) * 0.01, 3)\n",
    "        else:\n",
    "            raise ValueError(\"Please confirm option type (Call-c or Put-p)\")\n",
    "    \n",
    "    def graph(self):\n",
    "        op.single_plotter(spot=560,strike=560,op_type=\"c\",tr_type=\"b\",op_pr=12.5) \n",
    "        \n",
    "class OptionPlotter:\n",
    "    def __init__(self, spot, strike, op_type, tr_type, op_pr):\n",
    "        self.spot = spot\n",
    "        self.strike = strike\n",
    "        self.op_type = op_type\n",
    "        self.tr_type = tr_type\n",
    "        self.op_pr = op_pr\n",
    "\n",
    "    def plot(self):\n",
    "        # Using the single_plotter function from the opstrat module\n",
    "        op.single_plotter(spot=self.spot, strike=self.strike, op_type=self.op_type, \n",
    "                          tr_type=self.tr_type, op_pr=self.op_pr)\n",
    "\n",
    "# Example usage\n",
    "bs_model = BlackScholesModel(r=0.02, S=90.83, K=85.0, T=441/365, sigma=0.2046, type_option=\"c\")\n",
    "print(\"Option Price:\", bs_model.option_price())\n",
    "print(\"Delta:\", bs_model.delta())\n",
    "print(\"Gamma:\", bs_model.gamma())\n",
    "print(\"Vega:\", bs_model.vega())\n",
    "print(\"Theta:\", bs_model.theta())\n",
    "print(\"Rho:\", bs_model.rho())\n",
    "\n",
    "plotter = OptionPlotter(spot=90.83, strike=85.0, op_type=\"c\", tr_type=\"b\", op_pr=12.5)\n",
    "plotter.plot()"
   ]
  }
 ],
 "metadata": {
  "kernelspec": {
   "display_name": "Python 3",
   "language": "python",
   "name": "python3"
  },
  "language_info": {
   "codemirror_mode": {
    "name": "ipython",
    "version": 3
   },
   "file_extension": ".py",
   "mimetype": "text/x-python",
   "name": "python",
   "nbconvert_exporter": "python",
   "pygments_lexer": "ipython3",
   "version": "3.13.0"
  }
 },
 "nbformat": 4,
 "nbformat_minor": 2
}
